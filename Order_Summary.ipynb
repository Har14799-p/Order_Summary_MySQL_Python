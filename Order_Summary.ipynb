{
 "cells": [
  {
   "cell_type": "code",
   "execution_count": 1,
   "id": "a6d57302-8c92-4b1d-a02e-f2c82da66f81",
   "metadata": {},
   "outputs": [
    {
     "name": "stdout",
     "output_type": "stream",
     "text": [
      "3.11.9 (tags/v3.11.9:de54cf5, Apr  2 2024, 10:12:12) [MSC v.1938 64 bit (AMD64)]\n"
     ]
    }
   ],
   "source": [
    "import sys\n",
    "print(sys.version)"
   ]
  },
  {
   "cell_type": "code",
   "execution_count": null,
   "id": "f30ffe55-3bc2-4aaf-bdff-1d80022a6b34",
   "metadata": {},
   "outputs": [],
   "source": [
    "import mysql.connector\n",
    "import pandas as pd\n",
    "import matplotlib.pyplot as plt\n",
    "\n",
    "# 1) connect\n",
    "conn = mysql.connector.connect(\n",
    "    host=\"localhost\",\n",
    "    user=\"root\",\n",
    "    password=\"ABCD\",   # <- change this\n",
    "    database=\"sales_db\"         # <- ensure this DB exists\n",
    ")\n",
    "print(\"Connected!\")\n",
    "\n",
    "# 2) query\n",
    "query = \"\"\"\n",
    "SELECT product,\n",
    "       SUM(quantity) AS total_qty,\n",
    "       SUM(quantity * price) AS revenue\n",
    "FROM sales\n",
    "GROUP BY product;\n",
    "\"\"\"\n",
    "df = pd.read_sql(query, conn)\n",
    "print(df)\n",
    "\n",
    "# 3) plot\n",
    "df.plot(kind='bar', x='product', y='revenue', legend=False)\n",
    "plt.title(\"Revenue by Product\")\n",
    "plt.ylabel(\"Revenue\")\n",
    "plt.show()\n",
    "\n",
    "# 4) close\n",
    "conn.close()\n"
   ]
  },
  {
   "cell_type": "code",
   "execution_count": 2,
   "id": "46d63d51-9038-448b-8210-47f54badbb71",
   "metadata": {},
   "outputs": [
    {
     "name": "stdout",
     "output_type": "stream",
     "text": [
      "Found existing installation: mysql-connector-python 9.4.0\n",
      "Uninstalling mysql-connector-python-9.4.0:\n",
      "  Successfully uninstalled mysql-connector-python-9.4.0\n",
      "Collecting pymysql\n",
      "  Downloading PyMySQL-1.1.1-py3-none-any.whl.metadata (4.4 kB)\n",
      "Requirement already satisfied: pandas in c:\\users\\naveen\\appdata\\local\\programs\\python\\python311\\pyenvs\\mysql_env\\lib\\site-packages (2.3.1)\n",
      "Requirement already satisfied: matplotlib in c:\\users\\naveen\\appdata\\local\\programs\\python\\python311\\pyenvs\\mysql_env\\lib\\site-packages (3.10.5)\n",
      "Requirement already satisfied: numpy>=1.23.2 in c:\\users\\naveen\\appdata\\local\\programs\\python\\python311\\pyenvs\\mysql_env\\lib\\site-packages (from pandas) (2.3.2)\n",
      "Requirement already satisfied: python-dateutil>=2.8.2 in c:\\users\\naveen\\appdata\\local\\programs\\python\\python311\\pyenvs\\mysql_env\\lib\\site-packages (from pandas) (2.9.0.post0)\n",
      "Requirement already satisfied: pytz>=2020.1 in c:\\users\\naveen\\appdata\\local\\programs\\python\\python311\\pyenvs\\mysql_env\\lib\\site-packages (from pandas) (2025.2)\n",
      "Requirement already satisfied: tzdata>=2022.7 in c:\\users\\naveen\\appdata\\local\\programs\\python\\python311\\pyenvs\\mysql_env\\lib\\site-packages (from pandas) (2025.2)\n",
      "Requirement already satisfied: contourpy>=1.0.1 in c:\\users\\naveen\\appdata\\local\\programs\\python\\python311\\pyenvs\\mysql_env\\lib\\site-packages (from matplotlib) (1.3.3)\n",
      "Requirement already satisfied: cycler>=0.10 in c:\\users\\naveen\\appdata\\local\\programs\\python\\python311\\pyenvs\\mysql_env\\lib\\site-packages (from matplotlib) (0.12.1)\n",
      "Requirement already satisfied: fonttools>=4.22.0 in c:\\users\\naveen\\appdata\\local\\programs\\python\\python311\\pyenvs\\mysql_env\\lib\\site-packages (from matplotlib) (4.59.0)\n",
      "Requirement already satisfied: kiwisolver>=1.3.1 in c:\\users\\naveen\\appdata\\local\\programs\\python\\python311\\pyenvs\\mysql_env\\lib\\site-packages (from matplotlib) (1.4.9)\n",
      "Requirement already satisfied: packaging>=20.0 in c:\\users\\naveen\\appdata\\local\\programs\\python\\python311\\pyenvs\\mysql_env\\lib\\site-packages (from matplotlib) (25.0)\n",
      "Requirement already satisfied: pillow>=8 in c:\\users\\naveen\\appdata\\local\\programs\\python\\python311\\pyenvs\\mysql_env\\lib\\site-packages (from matplotlib) (11.3.0)\n",
      "Requirement already satisfied: pyparsing>=2.3.1 in c:\\users\\naveen\\appdata\\local\\programs\\python\\python311\\pyenvs\\mysql_env\\lib\\site-packages (from matplotlib) (3.2.3)\n",
      "Requirement already satisfied: six>=1.5 in c:\\users\\naveen\\appdata\\local\\programs\\python\\python311\\pyenvs\\mysql_env\\lib\\site-packages (from python-dateutil>=2.8.2->pandas) (1.17.0)\n",
      "Downloading PyMySQL-1.1.1-py3-none-any.whl (44 kB)\n",
      "Installing collected packages: pymysql\n",
      "Successfully installed pymysql-1.1.1\n"
     ]
    }
   ],
   "source": [
    "!pip uninstall mysql-connector-python -y\n",
    "!pip install pymysql pandas matplotlib"
   ]
  },
  {
   "cell_type": "code",
   "execution_count": 3,
   "id": "e218cb93-7783-4380-af35-ce58b1e3f578",
   "metadata": {},
   "outputs": [
    {
     "name": "stdout",
     "output_type": "stream",
     "text": [
      "Connection successful!\n"
     ]
    }
   ],
   "source": [
    "import pymysql\n",
    "import pandas as pd\n",
    "import matplotlib.pyplot as plt\n",
    "\n",
    "conn = pymysql.connect(\n",
    "    host=\"localhost\",\n",
    "    user=\"root\",\n",
    "    password=\"ABCD\",   # your password\n",
    "    database=\"sales_db\"\n",
    ")\n",
    "\n",
    "print(\"Connection successful!\")"
   ]
  },
  {
   "cell_type": "code",
   "execution_count": 4,
   "id": "2724f07a-b823-4a02-9158-b52b3bdf8fdc",
   "metadata": {},
   "outputs": [
    {
     "name": "stdout",
     "output_type": "stream",
     "text": [
      "Sales Summary:\n",
      "   product  total_qty   revenue\n",
      "0  Laptop       16.0  812000.0\n",
      "1  Mobile       32.0  652000.0\n",
      "2  Tablet       16.0  240000.0\n"
     ]
    },
    {
     "name": "stderr",
     "output_type": "stream",
     "text": [
      "C:\\Users\\NAVEEN\\AppData\\Local\\Temp\\ipykernel_21172\\1797483040.py:9: UserWarning: pandas only supports SQLAlchemy connectable (engine/connection) or database string URI or sqlite3 DBAPI2 connection. Other DBAPI2 objects are not tested. Please consider using SQLAlchemy.\n",
      "  df = pd.read_sql(query, conn)\n"
     ]
    }
   ],
   "source": [
    "query = \"\"\"\n",
    "SELECT product, \n",
    "       SUM(quantity) AS total_qty, \n",
    "       SUM(quantity * price) AS revenue\n",
    "FROM orders\n",
    "GROUP BY product;\n",
    "\"\"\"\n",
    "\n",
    "df = pd.read_sql(query, conn)\n",
    "print(\"Sales Summary:\\n\", df)"
   ]
  },
  {
   "cell_type": "code",
   "execution_count": 5,
   "id": "2c5504ee-32c0-41c1-92fb-53d084c34b00",
   "metadata": {},
   "outputs": [
    {
     "data": {
      "image/png": "[encoded data removed]",
      "text/plain": [
       "<Figure size 640x480 with 1 Axes>"
      ]
     },
     "metadata": {},
     "output_type": "display_data"
    }
   ],
   "source": [
    "df.plot(kind='bar', x='product', y='revenue', legend=False, color='skyblue')\n",
    "plt.title(\"Revenue by Product\")\n",
    "plt.xlabel(\"Product\")\n",
    "plt.ylabel(\"Revenue\")\n",
    "plt.grid(axis='y', linestyle='--', alpha=0.7)\n",
    "plt.show()"
   ]
  },
  {
   "cell_type": "code",
   "execution_count": 6,
   "id": "cc841fdc-be12-4dc7-bedb-406168cda2c5",
   "metadata": {},
   "outputs": [
    {
     "name": "stdout",
     "output_type": "stream",
     "text": [
      "MySQL connection closed.\n"
     ]
    }
   ],
   "source": [
    "conn.close()\n",
    "print(\"MySQL connection closed.\")"
   ]
  },
  {
   "cell_type": "code",
   "execution_count": null,
   "id": "cd207c3c-33b0-4dc1-ac43-14fde6975d33",
   "metadata": {},
   "outputs": [],
   "source": []
  }
 ],
 "metadata": {
  "kernelspec": {
   "display_name": "Python 3.11 (mysql_env)",
   "language": "python",
   "name": "mysql_env"
  },
  "language_info": {
   "codemirror_mode": {
    "name": "ipython",
    "version": 3
   },
   "file_extension": ".py",
   "mimetype": "text/x-python",
   "name": "python",
   "nbconvert_exporter": "python",
   "pygments_lexer": "ipython3",
   "version": "3.11.9"
  }
 },
 "nbformat": 4,
 "nbformat_minor": 5
}
